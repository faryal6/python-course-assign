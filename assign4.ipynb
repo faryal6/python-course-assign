{
 "cells": [
  {
   "cell_type": "code",
   "execution_count": 1,
   "metadata": {},
   "outputs": [
    {
     "name": "stdout",
     "output_type": "stream",
     "text": [
      "('first_name', 'faryal')\n",
      "('last_name', 'zehra')\n",
      "('age', 21)\n",
      "('city', 'Karachi.')\n",
      "{'first_name': 'faryal', 'last_name': 'zehra', 'age': 21, 'city': 'Karachi.', 'qualification': 'high academic level'}\n",
      "{'first_name': 'faryal', 'last_name': 'zehra', 'age': 21, 'city': 'Karachi.'}\n"
     ]
    }
   ],
   "source": [
    "info={\"first_name\":\"faryal\", \"last_name\":\"zehra\", \"age\":21,\"city\":\"Karachi.\"}\n",
    "for i in info.items():\n",
    "    print(i) \n",
    "info[\"qualification\"]=\"high academic level\"\n",
    "print(info)\n",
    "del(info[\"qualification\"])\n",
    "print(info)"
   ]
  },
  {
   "cell_type": "code",
   "execution_count": 2,
   "metadata": {},
   "outputs": [
    {
     "name": "stdout",
     "output_type": "stream",
     "text": [
      "Karachi {'country': 'Pakistan', 'population': '14.91 million', 'fact': 'yummy Biryani'}\n",
      "Lahore {'country': 'Pakistan', 'population': '11.13 million', 'fact': 'paaye'}\n",
      "Islamabad {'country': 'Pakistan', 'population': '1.015 million', 'fact': 'beautifulview'}\n"
     ]
    }
   ],
   "source": [
    "cities={\"Karachi\":{\"country\":\"Pakistan\",\"population\":\"14.91 million\",\"fact\":\"yummy Biryani\"},\"Lahore\":{\"country\":\"Pakistan\",\"population\":\"11.13 million\",\"fact\":\"paaye\"} ,\"Islamabad\":{\"country\":\"Pakistan\",\"population\":\"1.015 million\",\"fact\":\"beautifulview\"}}\n",
    "for j in cities:\n",
    "    print(j,cities[j])"
   ]
  },
  {
   "cell_type": "code",
   "execution_count": null,
   "metadata": {},
   "outputs": [
    {
     "name": "stdout",
     "output_type": "stream",
     "text": [
      "Enter viewers:7\n",
      "age: 1\n",
      "no charges\n",
      "age: 4\n",
      "pay $10\n",
      "age: 20\n",
      "pay $15\n"
     ]
    }
   ],
   "source": [
    "Pup=int(input(\"Enter viewers:\"))\n",
    "for i in range(0,Pup):\n",
    "    age=int(input(\"age: \"))\n",
    "    if age<3:\n",
    "        print(\"no charges\")\n",
    "    elif age>=3 and age<=12:\n",
    "        print(\"pay $10\")\n",
    "    else:\n",
    "        print(\"pay $15\")"
   ]
  },
  {
   "cell_type": "code",
   "execution_count": null,
   "metadata": {},
   "outputs": [],
   "source": [
    "def favorite_book(title):\n",
    "    print(\"my favourite book is \",title)\n",
    "book=input(\"Enter book name: \")\n",
    "favorite_book(book)"
   ]
  },
  {
   "cell_type": "code",
   "execution_count": null,
   "metadata": {},
   "outputs": [],
   "source": [
    "from random import randrange\n",
    "x=randrange(1,30)\n",
    "for j in range(0,3):\n",
    "    y=int(input(\"Enter a num: \"))\n",
    "    if y<x:\n",
    "        print(\"guess a larger num\")\n",
    "    elif y>x:\n",
    "        print(\"guess a smaller num\")\n",
    "    else:\n",
    "        print(\"You got it\")\n",
    "        break\n",
    "if y<x or y>x:\n",
    "    print(\"YOU LOST\")\n",
    "else:\n",
    "    print(\" YOU WON\")"
   ]
  },
  {
   "cell_type": "code",
   "execution_count": null,
   "metadata": {},
   "outputs": [],
   "source": []
  },
  {
   "cell_type": "code",
   "execution_count": null,
   "metadata": {},
   "outputs": [],
   "source": []
  },
  {
   "cell_type": "code",
   "execution_count": null,
   "metadata": {},
   "outputs": [],
   "source": []
  }
 ],
 "metadata": {
  "kernelspec": {
   "display_name": "Python 3",
   "language": "python",
   "name": "python3"
  },
  "language_info": {
   "codemirror_mode": {
    "name": "ipython",
    "version": 3
   },
   "file_extension": ".py",
   "mimetype": "text/x-python",
   "name": "python",
   "nbconvert_exporter": "python",
   "pygments_lexer": "ipython3",
   "version": "3.7.4"
  }
 },
 "nbformat": 4,
 "nbformat_minor": 2
}
