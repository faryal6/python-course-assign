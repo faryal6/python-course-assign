{
 "cells": [
  {
   "cell_type": "code",
   "execution_count": 1,
   "metadata": {},
   "outputs": [
    {
     "name": "stdout",
     "output_type": "stream",
     "text": [
      "Twinkle, twinkle, little star, \n",
      " \tHow I wonder what you are! \n",
      " \t \tUp above the world so high, \n",
      " \t \tLike a diamond in the sky. \n",
      " Twinkle, twinkle, little star, \n",
      " \tHow I wonder what you are\n"
     ]
    }
   ],
   "source": [
    "print (\"Twinkle, twinkle, little star,\",\"\\n\",\"\\t\" \"How I wonder what you are!\",\"\\n\",\"\\t\",\"\\t\" \"Up above the world so high,\",\"\\n\",\"\\t\",\"\\t\" \"Like a diamond in the sky.\",\"\\n\",\"Twinkle, twinkle, little star,\",\"\\n\",\"\\t\" \"How I wonder what you are\")"
   ]
  },
  {
   "cell_type": "code",
   "execution_count": 2,
   "metadata": {},
   "outputs": [
    {
     "name": "stdout",
     "output_type": "stream",
     "text": [
      "3.7.4\n"
     ]
    }
   ],
   "source": [
    "from platform import python_version\n",
    "print (python_version())\n"
   ]
  },
  {
   "cell_type": "code",
   "execution_count": 3,
   "metadata": {},
   "outputs": [
    {
     "name": "stdout",
     "output_type": "stream",
     "text": [
      "DATE: 5-nov-2019 TIME: 2:00 PM\n"
     ]
    }
   ],
   "source": [
    "Date=(\"DATE: 5-nov-2019\")\n",
    "Time=(\"TIME: 2:00 PM\")\n",
    "print (Date,Time)"
   ]
  },
  {
   "cell_type": "code",
   "execution_count": 4,
   "metadata": {},
   "outputs": [
    {
     "name": "stdout",
     "output_type": "stream",
     "text": [
      "Enter the radius:6\n",
      "113.04\n"
     ]
    }
   ],
   "source": [
    "r= int(input(\"Enter the radius:\"))\n",
    "Area=3.14*r**2\n",
    "print (Area)"
   ]
  },
  {
   "cell_type": "code",
   "execution_count": 5,
   "metadata": {},
   "outputs": [
    {
     "name": "stdout",
     "output_type": "stream",
     "text": [
      "1st Name:faryal\n",
      "2nd Name:zehra\n",
      "arhez layraf\n",
      "zehra faryal\n"
     ]
    }
   ],
   "source": [
    "F=input(\"1st Name:\")\n",
    "L=input(\"2nd Name:\")\n",
    "print (L[::-1], F[::-1])\n",
    "print (L, F)"
   ]
  },
  {
   "cell_type": "code",
   "execution_count": 6,
   "metadata": {},
   "outputs": [
    {
     "name": "stdout",
     "output_type": "stream",
     "text": [
      "hello faryal\n",
      "girl good\n",
      "faryalgood\n"
     ]
    }
   ],
   "source": [
    "a=input(\"hello \")\n",
    "b=input(\"girl \")\n",
    "print (a+b)"
   ]
  },
  {
   "cell_type": "code",
   "execution_count": null,
   "metadata": {},
   "outputs": [],
   "source": []
  }
 ],
 "metadata": {
  "kernelspec": {
   "display_name": "Python 3",
   "language": "python",
   "name": "python3"
  },
  "language_info": {
   "codemirror_mode": {
    "name": "ipython",
    "version": 3
   },
   "file_extension": ".py",
   "mimetype": "text/x-python",
   "name": "python",
   "nbconvert_exporter": "python",
   "pygments_lexer": "ipython3",
   "version": "3.7.4"
  }
 },
 "nbformat": 4,
 "nbformat_minor": 2
}
