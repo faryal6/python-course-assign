{
 "cells": [
  {
   "cell_type": "code",
   "execution_count": 1,
   "metadata": {},
   "outputs": [
    {
     "name": "stdout",
     "output_type": "stream",
     "text": [
      "Enter 1st integer: 1\n",
      "Enter 2nd integer: 2\n",
      "Enter the operation: *\n",
      "2 Answer\n"
     ]
    }
   ],
   "source": [
    "x=int(input(\"Enter 1st integer: \"))\n",
    "y=int(input(\"Enter 2nd integer: \"))\n",
    "op=input(\"Enter the operation: \")\n",
    "if op == '+':\n",
    "    print(x+y,\"Answer\")\n",
    "elif op == '-':\n",
    "    print(x-y,\"Answer\")\n",
    "elif op == '*':\n",
    "    print(x*y,\"Answer\")\n",
    "elif op == '/':\n",
    "    print(x/y,\"Answer\")\n",
    "elif op == \"**\":\n",
    "    print(x**y,\"Answer\")\n",
    "else:\n",
    "    print(\"Invalid operation.\")"
   ]
  },
  {
   "cell_type": "code",
   "execution_count": 2,
   "metadata": {},
   "outputs": [
    {
     "name": "stdout",
     "output_type": "stream",
     "text": [
      "The list has numeric value\n"
     ]
    }
   ],
   "source": [
    "x=['s','t',8,2.4,3,'a',1.1]\n",
    "y=[]\n",
    "for i in range(0,5):\n",
    "    if isinstance(x[i],int) or isinstance(x[i],float):\n",
    "        y.append(x[i])\n",
    "        print(\"The list has numeric value\")\n",
    "        break\n",
    "if len(y)==0:\n",
    "    print(\"The list doesnot has any numeric values\")"
   ]
  },
  {
   "cell_type": "code",
   "execution_count": 5,
   "metadata": {},
   "outputs": [
    {
     "name": "stdout",
     "output_type": "stream",
     "text": [
      "Enter key: girl\n",
      "Enter value: 3\n",
      "{'girl': 3}\n"
     ]
    }
   ],
   "source": [
    "dic1={}\n",
    "val1=input(\"Enter key: \")\n",
    "val2=input(\"Enter value: \")\n",
    "if val1.isnumeric():\n",
    "    if val2.isnumeric():\n",
    "        dic1[int(val1)]= int(val2)\n",
    "        print(dic1)\n",
    "    else:\n",
    "        dic1[int(val1)]= val2\n",
    "        print(dic1)\n",
    "elif val2.isnumeric():\n",
    "    if val1.isnumeric():\n",
    "        dic1[int(val1)]= int(val2)\n",
    "        print(dic1)\n",
    "    else:\n",
    "        dic1[val1]= int(val2)\n",
    "        print(dic1)\n",
    "\n",
    "else:\n",
    "    dic1[val1]= val2\n",
    "    print(dic1)"
   ]
  },
  {
   "cell_type": "code",
   "execution_count": 4,
   "metadata": {},
   "outputs": [
    {
     "name": "stdout",
     "output_type": "stream",
     "text": [
      "By adding all the numeric values of dictionary we get: 36\n"
     ]
    }
   ],
   "source": [
    "dic={'name':\"faryal\",'Age':20,'Gender':'f','Class':16}\n",
    "add=0\n",
    "for val in dic.values():\n",
    "    if isinstance(val,int) or isinstance(val,float):\n",
    "        add+=val\n",
    "print(\"By adding all the numeric values of dictionary we get:\",add)"
   ]
  },
  {
   "cell_type": "code",
   "execution_count": 6,
   "metadata": {},
   "outputs": [
    {
     "name": "stdout",
     "output_type": "stream",
     "text": [
      "Items that duplicates are: [2, 7, 6, 3]\n"
     ]
    }
   ],
   "source": [
    "import collections\n",
    "numlist=[2,7,9,6,6,2,7,8,3,3]\n",
    "print(\"Items that duplicates are:\",[item for item, count in collections.Counter(numlist).items() if count > 1])"
   ]
  },
  {
   "cell_type": "code",
   "execution_count": null,
   "metadata": {},
   "outputs": [],
   "source": [
    "position={\"Aslam\":1,\"Ali\":2,\"fatima\":3,\"faryal\":4,\"Kazim\":5}\n",
    "x=input(\"Enter name of student: \")\n",
    "for find in rank.keys():\n",
    "    if find ==x:\n",
    "        print(\"This student is in position holders.\" )\n",
    "if x not in rank.keys():\n",
    "    print(\"This student is not in position holders.\" )"
   ]
  },
  {
   "cell_type": "code",
   "execution_count": null,
   "metadata": {},
   "outputs": [],
   "source": []
  },
  {
   "cell_type": "code",
   "execution_count": null,
   "metadata": {},
   "outputs": [],
   "source": []
  }
 ],
 "metadata": {
  "kernelspec": {
   "display_name": "Python 3",
   "language": "python",
   "name": "python3"
  },
  "language_info": {
   "codemirror_mode": {
    "name": "ipython",
    "version": 3
   },
   "file_extension": ".py",
   "mimetype": "text/x-python",
   "name": "python",
   "nbconvert_exporter": "python",
   "pygments_lexer": "ipython3",
   "version": "3.7.4"
  }
 },
 "nbformat": 4,
 "nbformat_minor": 2
}
