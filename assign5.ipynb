{
 "cells": [
  {
   "cell_type": "code",
   "execution_count": 2,
   "metadata": {},
   "outputs": [
    {
     "name": "stdout",
     "output_type": "stream",
     "text": [
      "4\n",
      "factorial of 4 is 24\n"
     ]
    }
   ],
   "source": [
    "def fact(b):\n",
    "    a=1\n",
    "    for c in range(1,b+1):\n",
    "        a=a*c\n",
    "    return a \n",
    "x=int(input())\n",
    "f = fact(x) \n",
    "print (\"factorial of\", x ,\"is\", f)"
   ]
  },
  {
   "cell_type": "code",
   "execution_count": null,
   "metadata": {},
   "outputs": [],
   "source": []
  },
  {
   "cell_type": "code",
   "execution_count": 4,
   "metadata": {},
   "outputs": [
    {
     "name": "stdout",
     "output_type": "stream",
     "text": [
      "faRYal\n",
      "the uppercase letters are: 2 \n",
      " lowercase letters are 4\n"
     ]
    }
   ],
   "source": [
    "def count_uplo(i,z):\n",
    "    a=0\n",
    "    b=0\n",
    "    for y in range(0,z):\n",
    "        if i[y].isupper():\n",
    "            a=a+1\n",
    "        elif i[y].islower():\n",
    "            b=b+1\n",
    "    return a,b\n",
    "x=input()\n",
    "z=len(x)\n",
    "c,d=count_uplo(x,z)\n",
    "print(\"the uppercase letters are:\",c,\"\\n lowercase letters are\",d)"
   ]
  },
  {
   "cell_type": "code",
   "execution_count": 5,
   "metadata": {},
   "outputs": [
    {
     "name": "stdout",
     "output_type": "stream",
     "text": [
      "2  4  6  8  "
     ]
    }
   ],
   "source": [
    "def even(x):\n",
    "    for k in x:\n",
    "        if k%2==0:\n",
    "            print(k,\" \",end='')\n",
    "x=[1,2,3,4,5,6,7,8,9]\n",
    "even(x)"
   ]
  },
  {
   "cell_type": "code",
   "execution_count": 9,
   "metadata": {},
   "outputs": [
    {
     "name": "stdout",
     "output_type": "stream",
     "text": [
      "faryal\n",
      "The string is not a palindrome.\n"
     ]
    }
   ],
   "source": [
    "x =input()\n",
    "x = x.casefold()\n",
    "y = reversed(x)\n",
    "if list(x) == list(y):\n",
    "   print(\"The string is a palindrome.\")\n",
    "else:\n",
    "   print(\"The string is not a palindrome.\")"
   ]
  },
  {
   "cell_type": "code",
   "execution_count": 16,
   "metadata": {},
   "outputs": [
    {
     "name": "stdout",
     "output_type": "stream",
     "text": [
      "5 is not a prime number\n"
     ]
    }
   ],
   "source": [
    "def prime_no(num):\n",
    "    if num > 1:\n",
    "        for j in range(2,num):\n",
    "            if (num % j) == 0:\n",
    "                print(num,\"is not a prime no\")\n",
    "                print(j,\"times\",num//j,\"is\",num)\n",
    "                break\n",
    "        else:\n",
    "            print(num,\"is not a prime number\")\n",
    "x=5\n",
    "prime_no(x)"
   ]
  },
  {
   "cell_type": "code",
   "execution_count": 17,
   "metadata": {},
   "outputs": [
    {
     "name": "stdout",
     "output_type": "stream",
     "text": [
      "('apple', 'grapes', 'banana')  "
     ]
    }
   ],
   "source": [
    "def shopping_items(*x):\n",
    "        print(x,\" \",end='')\n",
    "shopping_items(\"apple\",\"grapes\",\"banana\")"
   ]
  },
  {
   "cell_type": "code",
   "execution_count": null,
   "metadata": {},
   "outputs": [],
   "source": []
  }
 ],
 "metadata": {
  "kernelspec": {
   "display_name": "Python 3",
   "language": "python",
   "name": "python3"
  },
  "language_info": {
   "codemirror_mode": {
    "name": "ipython",
    "version": 3
   },
   "file_extension": ".py",
   "mimetype": "text/x-python",
   "name": "python",
   "nbconvert_exporter": "python",
   "pygments_lexer": "ipython3",
   "version": "3.7.4"
  }
 },
 "nbformat": 4,
 "nbformat_minor": 2
}
