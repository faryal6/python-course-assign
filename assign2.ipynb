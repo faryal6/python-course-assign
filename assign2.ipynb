{
 "cells": [
  {
   "cell_type": "code",
   "execution_count": 1,
   "metadata": {},
   "outputs": [
    {
     "name": "stdout",
     "output_type": "stream",
     "text": [
      "Enter your marks EEM: 80\n",
      "Enter your marks PNS: 80\n",
      "Enter your marks IEL: 80\n",
      "Enter your marks EDC: 80\n",
      "Enter your marks DSP: 80\n",
      "A+ grade.\n"
     ]
    }
   ],
   "source": [
    "\n",
    "EEM=int(input(\"Enter your marks EEM: \"))\n",
    "PNS=int(input(\"Enter your marks PNS: \"))\n",
    "IEL=int(input(\"Enter your marks IEL: \"))\n",
    "EDC=int(input(\"Enter your marks EDC: \"))\n",
    "DSP=int(input(\"Enter your marks DSP: \"))\n",
    "total= EEM+PNS+IEL+EDC+DSP\n",
    "percent=(total/500.0)*100.0\n",
    "if percent >= 80.0:\n",
    "    print(\"A+ grade.\")\n",
    "elif percent >= 70.0 and  percent < 80:\n",
    "    print(\"A grade.\")\n",
    "elif percent >=60.0 and  percent < 70:\n",
    "    print(\"B grade.\")\n",
    "elif percent >= 50.0 and  percent < 60:\n",
    "    print(\"C grade.\")\n",
    "elif percent >= 40.0 and  percent < 50:\n",
    "    print(\"D grade\")\n",
    "elif percent >= 33.0 and  percent < 40:\n",
    "    print(\"E grade.\")\n",
    "else:\n",
    "    print(\"you have been selected to study the session again\")"
   ]
  },
  {
   "cell_type": "code",
   "execution_count": 2,
   "metadata": {},
   "outputs": [
    {
     "name": "stdout",
     "output_type": "stream",
     "text": [
      "Enter an int:5\n",
      "Int is 5  ,an odd number\n"
     ]
    }
   ],
   "source": [
    "no=int(input(\"Enter an int:\"))\n",
    "if no%2 == 0:\n",
    "    print(\"Int is\",no,\"an even number\")\n",
    "else:\n",
    "    print(\"Int is\",no,\" ,an odd number\")"
   ]
  },
  {
   "cell_type": "code",
   "execution_count": 3,
   "metadata": {},
   "outputs": [
    {
     "name": "stdout",
     "output_type": "stream",
     "text": [
      "The length of given list = 9\n"
     ]
    }
   ],
   "source": [
    "s=[1,3,77,7,67,11,13,88,19]\n",
    "print(\"The length of given list =\",len(s))"
   ]
  },
  {
   "cell_type": "code",
   "execution_count": 4,
   "metadata": {},
   "outputs": [
    {
     "name": "stdout",
     "output_type": "stream",
     "text": [
      "sum = 15\n"
     ]
    }
   ],
   "source": [
    "s=[0,1,2,3,4,5]\n",
    "x=0\n",
    "for i in s:\n",
    "    x += i\n",
    "print(\"sum =\",x)"
   ]
  },
  {
   "cell_type": "code",
   "execution_count": 5,
   "metadata": {},
   "outputs": [
    {
     "name": "stdout",
     "output_type": "stream",
     "text": [
      "largest no= 87\n"
     ]
    }
   ],
   "source": [
    "l=[23,77,6,87]\n",
    "y=max(l)\n",
    "print(\"largest no=\",y)"
   ]
  },
  {
   "cell_type": "code",
   "execution_count": 6,
   "metadata": {},
   "outputs": [
    {
     "name": "stdout",
     "output_type": "stream",
     "text": [
      "1  1  2  3  "
     ]
    }
   ],
   "source": [
    "a=[1,1,2,3,5,8,13,21,34,55,89]\n",
    "for i in range(0,4):\n",
    "    if a[i]<5:\n",
    "        print(a[i], \" \" ,end='')"
   ]
  },
  {
   "cell_type": "code",
   "execution_count": null,
   "metadata": {},
   "outputs": [],
   "source": []
  }
 ],
 "metadata": {
  "kernelspec": {
   "display_name": "Python 3",
   "language": "python",
   "name": "python3"
  },
  "language_info": {
   "codemirror_mode": {
    "name": "ipython",
    "version": 3
   },
   "file_extension": ".py",
   "mimetype": "text/x-python",
   "name": "python",
   "nbconvert_exporter": "python",
   "pygments_lexer": "ipython3",
   "version": "3.7.4"
  }
 },
 "nbformat": 4,
 "nbformat_minor": 2
}
